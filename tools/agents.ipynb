{
 "cells": [
  {
   "cell_type": "code",
   "execution_count": 2,
   "metadata": {},
   "outputs": [],
   "source": [
    "from langchain_community.tools import WikipediaQueryRun\n",
    "from langchain_community.utilities import WikipediaAPIWrapper"
   ]
  },
  {
   "cell_type": "code",
   "execution_count": 13,
   "metadata": {},
   "outputs": [],
   "source": [
    "## first retrieval tool -- wikipedia\n",
    "wikipedia_wrapper = WikipediaAPIWrapper(top_k_results=1, doc_content_chars_max=200)\n",
    "tool_wiki=WikipediaQueryRun(api_wrapper=wikipedia_wrapper)"
   ]
  },
  {
   "cell_type": "code",
   "execution_count": 6,
   "metadata": {},
   "outputs": [
    {
     "name": "stderr",
     "output_type": "stream",
     "text": [
      "c:\\Users\\User\\miniconda3\\envs\\myenv\\lib\\site-packages\\huggingface_hub\\file_download.py:1132: FutureWarning: `resume_download` is deprecated and will be removed in version 1.0.0. Downloads always resume when possible. If you want to force a new download, use `force_download=True`.\n",
      "  warnings.warn(\n"
     ]
    }
   ],
   "source": [
    "from langchain_community.document_loaders import WebBaseLoader\n",
    "from langchain_community.vectorstores import FAISS\n",
    "from langchain.text_splitter import RecursiveCharacterTextSplitter\n",
    "from langchain_huggingface import HuggingFaceEmbeddings\n",
    "\n",
    "## second retrieval tool --  a website\n",
    "loader = WebBaseLoader(\"https://www.britannica.com/place/Ottoman-Empire\")\n",
    "documents_loaded = loader.load()\n",
    "documents = RecursiveCharacterTextSplitter(chunk_size = 1000, chunk_overlap=200).split_documents(documents_loaded)\n",
    "\n",
    "embedding = HuggingFaceEmbeddings(model_name = \"thenlper/gte-small\")\n",
    "db = FAISS.from_documents(documents, embedding)\n",
    "\n",
    "retriever = db.as_retriever()"
   ]
  },
  {
   "cell_type": "code",
   "execution_count": 14,
   "metadata": {},
   "outputs": [
    {
     "data": {
      "text/plain": [
       "'brief_ottoman_empire_history'"
      ]
     },
     "execution_count": 14,
     "metadata": {},
     "output_type": "execute_result"
    }
   ],
   "source": [
    "from langchain.tools.retriever import create_retriever_tool\n",
    "tool_web = create_retriever_tool(retriever, \"brief_ottoman_empire_history\",\n",
    "                        \"Search for information about Ottoman Empire. For any questions about Ottoman Empire, use this tool\")\n",
    "tool_web.name"
   ]
  },
  {
   "cell_type": "code",
   "execution_count": 15,
   "metadata": {},
   "outputs": [
    {
     "data": {
      "text/plain": [
       "'arxiv'"
      ]
     },
     "execution_count": 15,
     "metadata": {},
     "output_type": "execute_result"
    }
   ],
   "source": [
    "## third retrieval tool -- arxiv\n",
    "from langchain_community.tools import ArxivQueryRun\n",
    "from langchain_community.utilities import ArxivAPIWrapper\n",
    "\n",
    "arxiv_wrapper = ArxivAPIWrapper(top_k_results=1, doc_content_chars_max=200)\n",
    "tool_arxiv = ArxivQueryRun(api_wrapper=arxiv_wrapper)\n",
    "tool_arxiv.name"
   ]
  },
  {
   "cell_type": "code",
   "execution_count": 16,
   "metadata": {},
   "outputs": [],
   "source": [
    "## combine tools\n",
    "tools = [tool_wiki, tool_web, tool_arxiv]"
   ]
  },
  {
   "cell_type": "code",
   "execution_count": 26,
   "metadata": {},
   "outputs": [],
   "source": [
    "from langchain_community.chat_models import ChatOllama\n",
    "llm=ChatOllama(model=\"llama2\")"
   ]
  },
  {
   "cell_type": "code",
   "execution_count": 20,
   "metadata": {},
   "outputs": [
    {
     "data": {
      "text/plain": [
       "[SystemMessagePromptTemplate(prompt=PromptTemplate(input_variables=[], template='You are a helpful assistant')),\n",
       " MessagesPlaceholder(variable_name='chat_history', optional=True),\n",
       " HumanMessagePromptTemplate(prompt=PromptTemplate(input_variables=['input'], template='{input}')),\n",
       " MessagesPlaceholder(variable_name='agent_scratchpad')]"
      ]
     },
     "execution_count": 20,
     "metadata": {},
     "output_type": "execute_result"
    }
   ],
   "source": [
    "from langchain import hub\n",
    "# Get the prompt to use \n",
    "prompt = hub.pull(\"hwchase17/openai-functions-agent\")\n",
    "prompt.messages"
   ]
  },
  {
   "cell_type": "code",
   "execution_count": 27,
   "metadata": {},
   "outputs": [
    {
     "data": {
      "text/plain": [
       "AgentExecutor(verbose=True, agent=RunnableMultiActionAgent(runnable=RunnableAssign(mapper={\n",
       "  agent_scratchpad: RunnableLambda(lambda x: format_to_openai_tool_messages(x['intermediate_steps']))\n",
       "})\n",
       "| ChatPromptTemplate(input_variables=['agent_scratchpad', 'input'], input_types={'chat_history': typing.List[typing.Union[langchain_core.messages.ai.AIMessage, langchain_core.messages.human.HumanMessage, langchain_core.messages.chat.ChatMessage, langchain_core.messages.system.SystemMessage, langchain_core.messages.function.FunctionMessage, langchain_core.messages.tool.ToolMessage]], 'agent_scratchpad': typing.List[typing.Union[langchain_core.messages.ai.AIMessage, langchain_core.messages.human.HumanMessage, langchain_core.messages.chat.ChatMessage, langchain_core.messages.system.SystemMessage, langchain_core.messages.function.FunctionMessage, langchain_core.messages.tool.ToolMessage]]}, metadata={'lc_hub_owner': 'hwchase17', 'lc_hub_repo': 'openai-functions-agent', 'lc_hub_commit_hash': 'a1655024b06afbd95d17449f21316291e0726f13dcfaf990cc0d18087ad689a5'}, messages=[SystemMessagePromptTemplate(prompt=PromptTemplate(input_variables=[], template='You are a helpful assistant')), MessagesPlaceholder(variable_name='chat_history', optional=True), HumanMessagePromptTemplate(prompt=PromptTemplate(input_variables=['input'], template='{input}')), MessagesPlaceholder(variable_name='agent_scratchpad')])\n",
       "| RunnableBinding(bound=ChatOllama(), kwargs={'tools': [{'type': 'function', 'function': {'name': 'wikipedia', 'description': 'A wrapper around Wikipedia. Useful for when you need to answer general questions about people, places, companies, facts, historical events, or other subjects. Input should be a search query.', 'parameters': {'type': 'object', 'properties': {'query': {'description': 'query to look up on wikipedia', 'type': 'string'}}, 'required': ['query']}}}, {'type': 'function', 'function': {'name': 'brief_ottoman_empire_history', 'description': 'Search for information about Ottoman Empire. For any questions about Ottoman Empire, use this tool', 'parameters': {'type': 'object', 'properties': {'query': {'description': 'query to look up in retriever', 'type': 'string'}}, 'required': ['query']}}}, {'type': 'function', 'function': {'name': 'arxiv', 'description': 'A wrapper around Arxiv.org Useful for when you need to answer questions about Physics, Mathematics, Computer Science, Quantitative Biology, Quantitative Finance, Statistics, Electrical Engineering, and Economics from scientific articles on arxiv.org. Input should be a search query.', 'parameters': {'type': 'object', 'properties': {'query': {'description': 'search query to look up', 'type': 'string'}}, 'required': ['query']}}}]})\n",
       "| OpenAIToolsAgentOutputParser(), input_keys_arg=[], return_keys_arg=[], stream_runnable=True), tools=[WikipediaQueryRun(api_wrapper=WikipediaAPIWrapper(wiki_client=<module 'wikipedia' from 'c:\\\\Users\\\\User\\\\miniconda3\\\\envs\\\\myenv\\\\lib\\\\site-packages\\\\wikipedia\\\\__init__.py'>, top_k_results=1, lang='en', load_all_available_meta=False, doc_content_chars_max=200)), Tool(name='brief_ottoman_empire_history', description='Search for information about Ottoman Empire. For any questions about Ottoman Empire, use this tool', args_schema=<class 'langchain_core.tools.RetrieverInput'>, func=functools.partial(<function _get_relevant_documents at 0x00000221445F7D90>, retriever=VectorStoreRetriever(tags=['FAISS', 'HuggingFaceEmbeddings'], vectorstore=<langchain_community.vectorstores.faiss.FAISS object at 0x000002211B7C1750>), document_prompt=PromptTemplate(input_variables=['page_content'], template='{page_content}'), document_separator='\\n\\n'), coroutine=functools.partial(<function _aget_relevant_documents at 0x00000221445F7F40>, retriever=VectorStoreRetriever(tags=['FAISS', 'HuggingFaceEmbeddings'], vectorstore=<langchain_community.vectorstores.faiss.FAISS object at 0x000002211B7C1750>), document_prompt=PromptTemplate(input_variables=['page_content'], template='{page_content}'), document_separator='\\n\\n')), ArxivQueryRun(api_wrapper=ArxivAPIWrapper(arxiv_search=<class 'arxiv.Search'>, arxiv_exceptions=(<class 'arxiv.ArxivError'>, <class 'arxiv.UnexpectedEmptyPageError'>, <class 'arxiv.HTTPError'>), top_k_results=1, ARXIV_MAX_QUERY_LENGTH=300, continue_on_failure=False, load_max_docs=100, load_all_available_meta=False, doc_content_chars_max=200, arxiv_result=<class 'arxiv.Result'>))])"
      ]
     },
     "execution_count": 27,
     "metadata": {},
     "output_type": "execute_result"
    }
   ],
   "source": [
    "## agent\n",
    "from langchain.agents import create_openai_tools_agent\n",
    "agent = create_openai_tools_agent(llm, tools, prompt)\n",
    "\n",
    "## agent executor\n",
    "from langchain.agents import AgentExecutor\n",
    "agent_executor = AgentExecutor(agent=agent, tools=tools, verbose=True)\n",
    "agent_executor\n"
   ]
  },
  {
   "cell_type": "code",
   "execution_count": 28,
   "metadata": {},
   "outputs": [
    {
     "name": "stdout",
     "output_type": "stream",
     "text": [
      "\n",
      "\n",
      "\u001b[1m> Entering new AgentExecutor chain...\u001b[0m\n",
      "\u001b[32;1m\u001b[1;3m\n",
      "Of course, I'd be happy to help! The Ottoman Empire, also known as the Turkish Empire or Osmanlı İmparatorluğu in Turkish, was a vast and influential empire that existed from the 13th to the 20th century. It was one of the largest and most powerful empires in history, spanning across three continents and leaving a lasting legacy in the modern world.\n",
      "\n",
      "Here are some key facts about the Ottoman Empire:\n",
      "\n",
      "1. Establishment: The Ottoman Empire was established in the late 13th century by Osman Bey, a Turkish tribal leader. It began as a small tribe in northwestern Anatolia (modern-day Turkey) and gradually expanded through military conquests and diplomatic alliances.\n",
      "2. Expansion: The Ottoman Empire grew rapidly through the 14th to 16th centuries, conquering much of the Middle East, North Africa, and Eastern Europe. Its territories included modern-day Turkey, Syria, Lebanon, Jordan, Israel, Palestine, Egypt, Libya, Tunisia, Algeria, and parts of Iraq, Kurdistan, and Iran.\n",
      "3. Administration: The Ottoman Empire was a centralized state with a complex administrative system. It was divided into provinces (eyalets) governed by pashas, who were responsible for collecting taxes, maintaining order, and enforcing the law. The empire also had a powerful bureaucracy, including the imperial court and various ministries.\n",
      "4. Economy: The Ottoman Empire was an early example of a multicultural and multinational state, with a diverse economy that included agriculture, trade, crafts, and industry. It was known for its textile production, particularly cotton and silk, as well as its wine, olive oil, and other agricultural products.\n",
      "5. Military: The Ottoman military was one of the most powerful in the world during its time. It included infantry, cavalry, and naval forces, and was known for its discipline, organization, and tactical genius. The empire also had a strong tradition of siege warfare and fortification engineering.\n",
      "6. Cultural achievements: The Ottoman Empire was a major center of culture, art, and literature. It produced notable works of literature, poetry, and music, as well as beautiful architecture and decorative arts. The empire's architectural legacy includes some of the most impressive landmarks in the Middle East, such as the Hagia Sophia, the Topkapi Palace, and the Blue Mosque.\n",
      "7. Decline: The Ottoman Empire began to decline in the 19th century, due to a combination of internal decay and external pressures. It lost territories to rival powers, including Greece, Bulgaria, and Serbia, and faced challenges from nationalist movements within its borders. World War I further weakened the empire, leading to its eventual collapse in 1922.\n",
      "\n",
      "Overall, the Ottoman Empire was a remarkable historical entity that played a significant role in shaping the modern world. Its legacy can still be seen in the cultures, politics, and landscapes of the regions it once dominated.\u001b[0m\n",
      "\n",
      "\u001b[1m> Finished chain.\u001b[0m\n"
     ]
    },
    {
     "data": {
      "text/plain": [
       "{'input': 'Tell me about Ottoman Empire briefly.',\n",
       " 'output': \"\\nOf course, I'd be happy to help! The Ottoman Empire, also known as the Turkish Empire or Osmanlı İmparatorluğu in Turkish, was a vast and influential empire that existed from the 13th to the 20th century. It was one of the largest and most powerful empires in history, spanning across three continents and leaving a lasting legacy in the modern world.\\n\\nHere are some key facts about the Ottoman Empire:\\n\\n1. Establishment: The Ottoman Empire was established in the late 13th century by Osman Bey, a Turkish tribal leader. It began as a small tribe in northwestern Anatolia (modern-day Turkey) and gradually expanded through military conquests and diplomatic alliances.\\n2. Expansion: The Ottoman Empire grew rapidly through the 14th to 16th centuries, conquering much of the Middle East, North Africa, and Eastern Europe. Its territories included modern-day Turkey, Syria, Lebanon, Jordan, Israel, Palestine, Egypt, Libya, Tunisia, Algeria, and parts of Iraq, Kurdistan, and Iran.\\n3. Administration: The Ottoman Empire was a centralized state with a complex administrative system. It was divided into provinces (eyalets) governed by pashas, who were responsible for collecting taxes, maintaining order, and enforcing the law. The empire also had a powerful bureaucracy, including the imperial court and various ministries.\\n4. Economy: The Ottoman Empire was an early example of a multicultural and multinational state, with a diverse economy that included agriculture, trade, crafts, and industry. It was known for its textile production, particularly cotton and silk, as well as its wine, olive oil, and other agricultural products.\\n5. Military: The Ottoman military was one of the most powerful in the world during its time. It included infantry, cavalry, and naval forces, and was known for its discipline, organization, and tactical genius. The empire also had a strong tradition of siege warfare and fortification engineering.\\n6. Cultural achievements: The Ottoman Empire was a major center of culture, art, and literature. It produced notable works of literature, poetry, and music, as well as beautiful architecture and decorative arts. The empire's architectural legacy includes some of the most impressive landmarks in the Middle East, such as the Hagia Sophia, the Topkapi Palace, and the Blue Mosque.\\n7. Decline: The Ottoman Empire began to decline in the 19th century, due to a combination of internal decay and external pressures. It lost territories to rival powers, including Greece, Bulgaria, and Serbia, and faced challenges from nationalist movements within its borders. World War I further weakened the empire, leading to its eventual collapse in 1922.\\n\\nOverall, the Ottoman Empire was a remarkable historical entity that played a significant role in shaping the modern world. Its legacy can still be seen in the cultures, politics, and landscapes of the regions it once dominated.\"}"
      ]
     },
     "execution_count": 28,
     "metadata": {},
     "output_type": "execute_result"
    }
   ],
   "source": [
    "agent_executor.invoke({\"input\": \"Tell me about Ottoman Empire briefly.\"})"
   ]
  },
  {
   "cell_type": "code",
   "execution_count": 31,
   "metadata": {},
   "outputs": [
    {
     "name": "stdout",
     "output_type": "stream",
     "text": [
      "\n",
      "\n",
      "\u001b[1m> Entering new AgentExecutor chain...\u001b[0m\n",
      "\u001b[32;1m\u001b[1;3m\n",
      "The paper \"Greedy Equivalence Search for Nonparametric Graphical Models\" is about developing an efficient algorithm for searching for equivalent probabilistic graphical models, also known as Bayesian networks or Markov random fields. The authors propose a greedy search algorithm that starts with an initial model and iteratively adds, deletes, and modifies edges to find the most parsimonious (i.e., simplest) model that is equivalent to the original model.\n",
      "\n",
      "The algorithm works by starting with the given graphical model and then applying a set of heuristics to guide the search towards simpler models. The heuristics are based on the idea of minimizing the number of non-negligible probabilities in the model, which corresponds to removing unnecessary edges and nodes while preserving the structural equation.\n",
      "\n",
      "The authors demonstrate the effectiveness of their algorithm through experiments on several datasets, showing that it can find significantly simpler models than existing methods while retaining the accuracy of the original model. They also compare their approach with other state-of-the-art methods and show that it outperforms them in terms of computational efficiency and model simplification.\n",
      "\n",
      "Overall, the paper provides a practical solution to the problem of finding equivalent probabilistic graphical models, which is an important task in machine learning and artificial intelligence applications.\u001b[0m\n",
      "\n",
      "\u001b[1m> Finished chain.\u001b[0m\n"
     ]
    },
    {
     "data": {
      "text/plain": [
       "{'input': 'what is the paper titled as Greedy equivalence search for nonparametric graphical models about?',\n",
       " 'output': '\\nThe paper \"Greedy Equivalence Search for Nonparametric Graphical Models\" is about developing an efficient algorithm for searching for equivalent probabilistic graphical models, also known as Bayesian networks or Markov random fields. The authors propose a greedy search algorithm that starts with an initial model and iteratively adds, deletes, and modifies edges to find the most parsimonious (i.e., simplest) model that is equivalent to the original model.\\n\\nThe algorithm works by starting with the given graphical model and then applying a set of heuristics to guide the search towards simpler models. The heuristics are based on the idea of minimizing the number of non-negligible probabilities in the model, which corresponds to removing unnecessary edges and nodes while preserving the structural equation.\\n\\nThe authors demonstrate the effectiveness of their algorithm through experiments on several datasets, showing that it can find significantly simpler models than existing methods while retaining the accuracy of the original model. They also compare their approach with other state-of-the-art methods and show that it outperforms them in terms of computational efficiency and model simplification.\\n\\nOverall, the paper provides a practical solution to the problem of finding equivalent probabilistic graphical models, which is an important task in machine learning and artificial intelligence applications.'}"
      ]
     },
     "execution_count": 31,
     "metadata": {},
     "output_type": "execute_result"
    }
   ],
   "source": [
    "## ask about a paper in arxiv\n",
    "agent_executor.invoke({\"input\": \"what is the paper titled as Greedy equivalence search for nonparametric graphical models about?\"}) "
   ]
  },
  {
   "cell_type": "code",
   "execution_count": null,
   "metadata": {},
   "outputs": [],
   "source": []
  }
 ],
 "metadata": {
  "kernelspec": {
   "display_name": "Python 3.10.13 ('myenv')",
   "language": "python",
   "name": "python3"
  },
  "language_info": {
   "codemirror_mode": {
    "name": "ipython",
    "version": 3
   },
   "file_extension": ".py",
   "mimetype": "text/x-python",
   "name": "python",
   "nbconvert_exporter": "python",
   "pygments_lexer": "ipython3",
   "version": "3.10.13"
  },
  "orig_nbformat": 4,
  "vscode": {
   "interpreter": {
    "hash": "3cf986cef2fa546fe3f032498b7ba99e6f6a2a5fb52d18405c2d075f2b997d72"
   }
  }
 },
 "nbformat": 4,
 "nbformat_minor": 2
}
