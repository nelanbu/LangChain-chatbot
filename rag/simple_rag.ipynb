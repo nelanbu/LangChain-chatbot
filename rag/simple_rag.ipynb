{
 "cells": [
  {
   "cell_type": "markdown",
   "metadata": {},
   "source": [
    "#### Data loading"
   ]
  },
  {
   "cell_type": "code",
   "execution_count": 4,
   "metadata": {},
   "outputs": [
    {
     "data": {
      "text/plain": [
       "[Document(page_content='The history of the Roman Empire can be divided into three distinct periods: The Period of Kings (625-510 BC), Republican Rome (510-31 BC), and Imperial Rome (31 BC – AD 476).\\n\\nFounding (c. 625 BC)\\nRome was founded around 625 BC in the areas of ancient Italy known as Etruria and Latium. It is thought that the city-state of Rome was initially formed by Latium villagers joining together with settlers from the surrounding hills in response to an Etruscan invasion. It is unclear whether they came together in defense or as a result of being brought under Etruscan rule. Archaeological evidence indicates that a great deal of change and unification took place around 600 BC which likely led to the establishment of Rome as a true city.\\n\\nPeriod of Kings (625-510 BC)\\nThe first period in Roman history is known as the Period of Kings, and it lasted from Rome’s founding until 510 BC. During this brief time Rome, led by no fewer than six kings, advanced both militaristically and economically with increases in physical boundaries, military might, and production and trade of goods including oil lamps. Politically, this period saw the early formation of the Roman constitution. The end of the Period of Kings came with the decline of Etruscan power, thus ushering in Rome’s Republican Period.\\n\\nRepublican Rome (510-31 BC)\\nRome entered its Republican Period in 510 BC. No longer ruled by kings, the Romans established a new form of government whereby the upper classes ruled, namely the senators and the equestrians, or knights. However, a dictator could be nominated in times of crisis. In 451 BC, the Romans established the “Twelve Tables,” a standardized code of laws meant for public, private, and political matters.\\n\\nRome continued to expand through the Republican Period and gained control over the entire Italian peninsula by 338 BC. It was the Punic Wars from 264-146 BC, along with some conflicts with Greece, that allowed Rome to take control of Carthage and Corinth and thus become the dominant maritime power in the Mediterranean.\\n\\nSoon after, Rome’s political atmosphere pushed the Republic into a period of chaos and civil war. This led to the election of a dictator, L. Cornelius Sulla, who served from 82-80 BC. Following Sulla’s resignation in 79 BC, the Republic returned to a state of unrest. While Rome continued to be governed as a Republic for another 50 years, the shift to Imperialism began to materialize in 60 BC when Julius Caesar rose to power.\\n\\nBy 51 BC, Julius Caesar had conquered Celtic Gaul and, for the first time, Rome’s borders had spread beyond the Mediterranean region. Although the Senate was still Rome’s governing body, its power was weakening. Julius Caesar was assassinated in 44 BC and replaced by his heir, Gaius Julius Caesar Octavianus (Octavian) who ruled alongside Mark Antony. In 31 BC Rome overtook Egypt which resulted in the death of Mark Antony and left Octavian as the unchallenged ruler of Rome. Octavian assumed the title of Augustus and thus became the first emperor of Rome.\\n\\nImperial Rome (31 BC – AD 476)\\nRome’s Imperial Period was its last, beginning with the rise of Rome’s first emperor in 31 BC and lasting until the fall of Rome in AD 476. During this period, Rome saw several decades of peace, prosperity, and expansion. By AD 117, the Roman Empire had reached its maximum extant, spanning three continents including Asia Minor, northern Africa, and most of Europe.\\n\\nIn AD 286 the Roman Empire was split into eastern and western empires, each ruled by its own emperor. The western empire suffered several Gothic invasions and, in AD 455, was sacked by Vandals. Rome continued to decline after that until AD 476 when the western Roman Empire came to an end. The eastern Roman Empire, more commonly known as the Byzantine Empire, survived until the 15th century AD. It fell when Turks took control of its capital city, Constantinople (modern day Istanbul in Turkey) in AD 1453.', metadata={'source': './roman_empire_brief_history.txt'})]"
      ]
     },
     "execution_count": 4,
     "metadata": {},
     "output_type": "execute_result"
    }
   ],
   "source": [
    "## from text document\n",
    "from langchain_community.document_loaders import TextLoader\n",
    "\n",
    "loader = TextLoader('./roman_empire_brief_history.txt', encoding='utf-8')\n",
    "text_documents = loader.load()\n",
    "text_documents \n"
   ]
  },
  {
   "cell_type": "code",
   "execution_count": 6,
   "metadata": {},
   "outputs": [
    {
     "data": {
      "text/plain": [
       "True"
      ]
     },
     "execution_count": 6,
     "metadata": {},
     "output_type": "execute_result"
    }
   ],
   "source": [
    "import os\n",
    "from dotenv import load_dotenv\n",
    "\n",
    "load_dotenv()"
   ]
  },
  {
   "cell_type": "code",
   "execution_count": 16,
   "metadata": {},
   "outputs": [
    {
     "data": {
      "text/plain": [
       "[Document(page_content='Ottoman Empire,  empire created by Turkish tribes in Anatolia (Asia Minor) that grew to be one of the most powerful states in the world during the 15th and 16th centuries. The Ottoman period spanned more than 600 years and came to an end only in 1922, when it was replaced by the Turkish Republic and various successor states in southeastern Europe and the Middle East. At its height the empire encompassed most of southeastern Europe to the gates of Vienna, including present-day Hungary, the Balkan region, Greece, and parts of Ukraine; portions of the Middle East now occupied by Iraq, Syria, Israel, and Egypt; North Africa as far west as Algeria; and large parts of the Arabian Peninsula. The term Ottoman is a dynastic appellation derived from Osman I (Arabic: ʿUthmān), the nomadic Turkmen chief who founded both the dynasty and the empire about 1300.The Ottoman state to 1481: the age of expansionThe first period of Ottoman history was characterized by almost continuous territorial expansion, during which Ottoman dominion spread out from a small northwestern Anatolian principality to cover most of southeastern Europe and Anatolia. The political, economic, and social institutions of the classical Islamic empires were amalgamated with those inherited from Byzantium and the great Turkish empires of Central Asia and were reestablished in new forms that were to characterize the area into modern times.Origins and expansion of the Ottoman state, c. 1300–1402In their initial stages of expansion, the Ottomans were leaders of the Turkish warriors for the faith of Islam, known by the honorific title ghāzī (Arabic: “raider”), who fought against the shrinking Christian Byzantine state. The ancestors of Osman I, the founder of the dynasty, were members of the Kayı tribe who had entered Anatolia along with a mass of Turkmen Oğuz nomads. Those nomads, migrating from Central Asia, established themselves as the Seljuq dynasty in Iran and Mesopotamia in the mid-11th century, overwhelmed Byzantium after the Battle of Manzikert (1071), and occupied eastern and central Anatolia during the 12th century. The ghazis fought against the Byzantines and then the Mongols, who invaded Anatolia following the establishment of the Il-Khanid (Ilhanid) empire in Iran and Mesopotamia in the last half of the 13th century. With the disintegration of Seljuq power and its replacement by Mongol suzerainty, enforced by direct military occupation of much of eastern Anatolia, independent Turkmen principalities—one of which was led by Osman—emerged in the remainder of Anatolia.', metadata={'source': 'https://www.britannica.com/place/Ottoman-Empire'})]"
      ]
     },
     "execution_count": 16,
     "metadata": {},
     "output_type": "execute_result"
    }
   ],
   "source": [
    "## web based format\n",
    "from langchain_community.document_loaders import WebBaseLoader\n",
    "import bs4\n",
    "\n",
    "## load - chunk - index the content of html\n",
    "loader = WebBaseLoader(web_paths = (\"https://www.britannica.com/place/Ottoman-Empire\",) ,\n",
    "                        bs_kwargs = dict(parse_only = bs4.SoupStrainer(\n",
    "                            class_ = (\"topic-paragraph\", \"h1\", \"h2\")\n",
    "                        )))\n",
    "\n",
    "web_documents = loader.load()\n",
    "web_documents"
   ]
  },
  {
   "cell_type": "code",
   "execution_count": 1,
   "metadata": {},
   "outputs": [],
   "source": [
    "## from pdf\n",
    "from langchain_community.document_loaders import PyPDFLoader\n",
    "\n",
    "loader = PyPDFLoader(\"paper.pdf\")\n",
    "pdf_documents = loader.load()\n",
    "# pdf_documents"
   ]
  },
  {
   "cell_type": "markdown",
   "metadata": {},
   "source": [
    "#### chunks"
   ]
  },
  {
   "cell_type": "code",
   "execution_count": 2,
   "metadata": {},
   "outputs": [],
   "source": [
    "from langchain.text_splitter import RecursiveCharacterTextSplitter\n",
    "text_splitter = RecursiveCharacterTextSplitter(chunk_size = 1000, chunk_overlap = 200)\n",
    "documents = text_splitter.split_documents(pdf_documents)\n",
    "# documents"
   ]
  },
  {
   "cell_type": "markdown",
   "metadata": {},
   "source": [
    "### vector embeddings"
   ]
  },
  {
   "cell_type": "code",
   "execution_count": 3,
   "metadata": {},
   "outputs": [
    {
     "name": "stderr",
     "output_type": "stream",
     "text": [
      "c:\\Users\\User\\miniconda3\\envs\\myenv\\lib\\site-packages\\langchain_core\\_api\\deprecation.py:119: LangChainDeprecationWarning: The class `HuggingFaceEmbeddings` was deprecated in LangChain 0.2.2 and will be removed in 0.3.0. An updated version of the class exists in the langchain-huggingface package and should be used instead. To use it run `pip install -U langchain-huggingface` and import as `from langchain_huggingface import HuggingFaceEmbeddings`.\n",
      "  warn_deprecated(\n",
      "c:\\Users\\User\\miniconda3\\envs\\myenv\\lib\\site-packages\\sentence_transformers\\cross_encoder\\CrossEncoder.py:11: TqdmWarning: IProgress not found. Please update jupyter and ipywidgets. See https://ipywidgets.readthedocs.io/en/stable/user_install.html\n",
      "  from tqdm.autonotebook import tqdm, trange\n",
      "c:\\Users\\User\\miniconda3\\envs\\myenv\\lib\\site-packages\\huggingface_hub\\file_download.py:1132: FutureWarning: `resume_download` is deprecated and will be removed in version 1.0.0. Downloads always resume when possible. If you want to force a new download, use `force_download=True`.\n",
      "  warnings.warn(\n"
     ]
    }
   ],
   "source": [
    "## Vector embeddings and vector store\n",
    "# from langchain_community.embeddings import HuggingFaceEmbeddings # -- deprecated?\n",
    "from langchain_huggingface import HuggingFaceEmbeddings\n",
    "from langchain_community.vectorstores import Chroma\n",
    "from langchain_community.embeddings.sentence_transformer import SentenceTransformerEmbeddings\n",
    "\n",
    "# embedding = HuggingFaceEmbeddings(model_name=\"all-MiniLM-L6-v2\")\n",
    "embedding = SentenceTransformerEmbeddings(model_name = \"thenlper/gte-small\")\n",
    "db_chroma = Chroma.from_documents(documents, embedding)"
   ]
  },
  {
   "cell_type": "code",
   "execution_count": 8,
   "metadata": {},
   "outputs": [],
   "source": [
    "## vector database -- Chroma\n",
    "query = \"Who is the author of this paper?\"\n",
    "result = db_chroma.similarity_search(query)\n",
    "result[0].page_content"
   ]
  },
  {
   "cell_type": "code",
   "execution_count": 7,
   "metadata": {},
   "outputs": [],
   "source": [
    "## vector database -- FAISS\n",
    "from langchain_community.vectorstores import FAISS\n",
    "db_faiss = FAISS.from_documents(documents, embedding)\n",
    "\n",
    "result = db_faiss.similarity_search(query)\n",
    "result[0].page_content"
   ]
  }
 ],
 "metadata": {
  "kernelspec": {
   "display_name": "Python 3.10.13 ('myenv')",
   "language": "python",
   "name": "python3"
  },
  "language_info": {
   "codemirror_mode": {
    "name": "ipython",
    "version": 3
   },
   "file_extension": ".py",
   "mimetype": "text/x-python",
   "name": "python",
   "nbconvert_exporter": "python",
   "pygments_lexer": "ipython3",
   "version": "3.10.13"
  },
  "orig_nbformat": 4,
  "vscode": {
   "interpreter": {
    "hash": "3cf986cef2fa546fe3f032498b7ba99e6f6a2a5fb52d18405c2d075f2b997d72"
   }
  }
 },
 "nbformat": 4,
 "nbformat_minor": 2
}
